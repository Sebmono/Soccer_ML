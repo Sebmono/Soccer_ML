{
 "cells": [
  {
   "cell_type": "code",
   "execution_count": 1,
   "metadata": {},
   "outputs": [],
   "source": [
    "#Data preprocessing\n",
    "import statsbomb as sb\n",
    "import pandas as pd\n",
    "import numpy as np\n",
    "\n",
    "#Hide SettingWithCopy warning\n",
    "pd.options.mode.chained_assignment = None\n",
    "\n",
    "#Plotting libraries\n",
    "import matplotlib.pyplot as plt\n",
    "import matplotlib.mlab as mlab\n",
    "%matplotlib inline\n",
    "import seaborn as sns\n",
    "import scikitplot as skplt\n",
    "import plotly.express as px\n",
    "\n",
    "#Machine Learning toolit\n",
    "from sklearn import preprocessing, model_selection, svm, metrics\n",
    "from sklearn.model_selection import train_test_split, cross_val_predict, cross_val_score, GridSearchCV, StratifiedKFold\n",
    "from sklearn.ensemble import RandomForestClassifier\n",
    "from sklearn.ensemble import ExtraTreesClassifier\n",
    "from sklearn.ensemble import GradientBoostingClassifier\n",
    "from sklearn.linear_model import LogisticRegression\n",
    "from sklearn.tree import DecisionTreeClassifier\n",
    "from xgboost import XGBClassifier\n",
    "from sklearn.utils import resample\n",
    "from sklearn.utils.class_weight import compute_class_weight\n",
    "from sklearn.feature_selection import RFE\n",
    "#from imblearn.over_sampling import SMOTE, SMOTENC\n",
    "import imblearn\n",
    "from collections import Counter"
   ]
  },
  {
   "cell_type": "code",
   "execution_count": 2,
   "metadata": {
    "scrolled": true
   },
   "outputs": [
    {
     "data": {
      "text/html": [
       "<div>\n",
       "<style scoped>\n",
       "    .dataframe tbody tr th:only-of-type {\n",
       "        vertical-align: middle;\n",
       "    }\n",
       "\n",
       "    .dataframe tbody tr th {\n",
       "        vertical-align: top;\n",
       "    }\n",
       "\n",
       "    .dataframe thead th {\n",
       "        text-align: right;\n",
       "    }\n",
       "</style>\n",
       "<table border=\"1\" class=\"dataframe\">\n",
       "  <thead>\n",
       "    <tr style=\"text-align: right;\">\n",
       "      <th></th>\n",
       "      <th>competition_id</th>\n",
       "      <th>season_id</th>\n",
       "      <th>country_name</th>\n",
       "      <th>competition_name</th>\n",
       "      <th>competition_gender</th>\n",
       "      <th>season_name</th>\n",
       "      <th>match_updated</th>\n",
       "      <th>match_available</th>\n",
       "    </tr>\n",
       "  </thead>\n",
       "  <tbody>\n",
       "    <tr>\n",
       "      <th>0</th>\n",
       "      <td>37</td>\n",
       "      <td>42</td>\n",
       "      <td>England</td>\n",
       "      <td>FA Women's Super League</td>\n",
       "      <td>female</td>\n",
       "      <td>2019/2020</td>\n",
       "      <td>2020-03-11T14:09:41.932138</td>\n",
       "      <td>2020-03-11T14:09:41.932138</td>\n",
       "    </tr>\n",
       "    <tr>\n",
       "      <th>1</th>\n",
       "      <td>37</td>\n",
       "      <td>4</td>\n",
       "      <td>England</td>\n",
       "      <td>FA Women's Super League</td>\n",
       "      <td>female</td>\n",
       "      <td>2018/2019</td>\n",
       "      <td>2020-02-27T15:59:58.148</td>\n",
       "      <td>2020-02-27T15:59:58.148</td>\n",
       "    </tr>\n",
       "    <tr>\n",
       "      <th>2</th>\n",
       "      <td>43</td>\n",
       "      <td>3</td>\n",
       "      <td>International</td>\n",
       "      <td>FIFA World Cup</td>\n",
       "      <td>male</td>\n",
       "      <td>2018</td>\n",
       "      <td>2020-03-23T20:46:14.281663</td>\n",
       "      <td>2019-12-16T23:09:16.168756</td>\n",
       "    </tr>\n",
       "    <tr>\n",
       "      <th>3</th>\n",
       "      <td>11</td>\n",
       "      <td>4</td>\n",
       "      <td>Spain</td>\n",
       "      <td>La Liga</td>\n",
       "      <td>male</td>\n",
       "      <td>2018/2019</td>\n",
       "      <td>2020-02-27T12:19:39.458017</td>\n",
       "      <td>2020-02-27T12:19:39.458017</td>\n",
       "    </tr>\n",
       "    <tr>\n",
       "      <th>4</th>\n",
       "      <td>11</td>\n",
       "      <td>1</td>\n",
       "      <td>Spain</td>\n",
       "      <td>La Liga</td>\n",
       "      <td>male</td>\n",
       "      <td>2017/2018</td>\n",
       "      <td>2020-02-27T12:19:39.458017</td>\n",
       "      <td>2020-02-27T12:19:39.458017</td>\n",
       "    </tr>\n",
       "    <tr>\n",
       "      <th>5</th>\n",
       "      <td>11</td>\n",
       "      <td>2</td>\n",
       "      <td>Spain</td>\n",
       "      <td>La Liga</td>\n",
       "      <td>male</td>\n",
       "      <td>2016/2017</td>\n",
       "      <td>2019-12-16T23:09:16.168756</td>\n",
       "      <td>2019-12-16T23:09:16.168756</td>\n",
       "    </tr>\n",
       "    <tr>\n",
       "      <th>6</th>\n",
       "      <td>11</td>\n",
       "      <td>27</td>\n",
       "      <td>Spain</td>\n",
       "      <td>La Liga</td>\n",
       "      <td>male</td>\n",
       "      <td>2015/2016</td>\n",
       "      <td>2019-12-16T23:09:16.168756</td>\n",
       "      <td>2019-12-16T23:09:16.168756</td>\n",
       "    </tr>\n",
       "    <tr>\n",
       "      <th>7</th>\n",
       "      <td>11</td>\n",
       "      <td>26</td>\n",
       "      <td>Spain</td>\n",
       "      <td>La Liga</td>\n",
       "      <td>male</td>\n",
       "      <td>2014/2015</td>\n",
       "      <td>2019-12-16T23:09:16.168756</td>\n",
       "      <td>2019-12-16T23:09:16.168756</td>\n",
       "    </tr>\n",
       "    <tr>\n",
       "      <th>8</th>\n",
       "      <td>11</td>\n",
       "      <td>25</td>\n",
       "      <td>Spain</td>\n",
       "      <td>La Liga</td>\n",
       "      <td>male</td>\n",
       "      <td>2013/2014</td>\n",
       "      <td>2019-12-16T23:09:16.168756</td>\n",
       "      <td>2019-12-16T23:09:16.168756</td>\n",
       "    </tr>\n",
       "    <tr>\n",
       "      <th>9</th>\n",
       "      <td>11</td>\n",
       "      <td>24</td>\n",
       "      <td>Spain</td>\n",
       "      <td>La Liga</td>\n",
       "      <td>male</td>\n",
       "      <td>2012/2013</td>\n",
       "      <td>2019-12-16T23:09:16.168756</td>\n",
       "      <td>2019-12-16T23:09:16.168756</td>\n",
       "    </tr>\n",
       "    <tr>\n",
       "      <th>10</th>\n",
       "      <td>11</td>\n",
       "      <td>23</td>\n",
       "      <td>Spain</td>\n",
       "      <td>La Liga</td>\n",
       "      <td>male</td>\n",
       "      <td>2011/2012</td>\n",
       "      <td>2019-12-16T23:09:16.168756</td>\n",
       "      <td>2019-12-16T23:09:16.168756</td>\n",
       "    </tr>\n",
       "    <tr>\n",
       "      <th>11</th>\n",
       "      <td>11</td>\n",
       "      <td>22</td>\n",
       "      <td>Spain</td>\n",
       "      <td>La Liga</td>\n",
       "      <td>male</td>\n",
       "      <td>2010/2011</td>\n",
       "      <td>2019-12-16T23:09:16.168756</td>\n",
       "      <td>2019-12-16T23:09:16.168756</td>\n",
       "    </tr>\n",
       "    <tr>\n",
       "      <th>12</th>\n",
       "      <td>11</td>\n",
       "      <td>21</td>\n",
       "      <td>Spain</td>\n",
       "      <td>La Liga</td>\n",
       "      <td>male</td>\n",
       "      <td>2009/2010</td>\n",
       "      <td>2019-12-16T23:09:16.168756</td>\n",
       "      <td>2019-12-16T23:09:16.168756</td>\n",
       "    </tr>\n",
       "    <tr>\n",
       "      <th>13</th>\n",
       "      <td>11</td>\n",
       "      <td>41</td>\n",
       "      <td>Spain</td>\n",
       "      <td>La Liga</td>\n",
       "      <td>male</td>\n",
       "      <td>2008/2009</td>\n",
       "      <td>2019-12-16T23:09:16.168756</td>\n",
       "      <td>2019-12-16T23:09:16.168756</td>\n",
       "    </tr>\n",
       "    <tr>\n",
       "      <th>14</th>\n",
       "      <td>11</td>\n",
       "      <td>40</td>\n",
       "      <td>Spain</td>\n",
       "      <td>La Liga</td>\n",
       "      <td>male</td>\n",
       "      <td>2007/2008</td>\n",
       "      <td>2019-12-16T23:09:16.168756</td>\n",
       "      <td>2019-12-16T23:09:16.168756</td>\n",
       "    </tr>\n",
       "    <tr>\n",
       "      <th>15</th>\n",
       "      <td>11</td>\n",
       "      <td>39</td>\n",
       "      <td>Spain</td>\n",
       "      <td>La Liga</td>\n",
       "      <td>male</td>\n",
       "      <td>2006/2007</td>\n",
       "      <td>2019-12-16T23:09:16.168756</td>\n",
       "      <td>2019-12-16T23:09:16.168756</td>\n",
       "    </tr>\n",
       "    <tr>\n",
       "      <th>16</th>\n",
       "      <td>11</td>\n",
       "      <td>38</td>\n",
       "      <td>Spain</td>\n",
       "      <td>La Liga</td>\n",
       "      <td>male</td>\n",
       "      <td>2005/2006</td>\n",
       "      <td>2020-02-27T12:19:39.458017</td>\n",
       "      <td>2020-02-27T12:19:39.458017</td>\n",
       "    </tr>\n",
       "    <tr>\n",
       "      <th>17</th>\n",
       "      <td>11</td>\n",
       "      <td>37</td>\n",
       "      <td>Spain</td>\n",
       "      <td>La Liga</td>\n",
       "      <td>male</td>\n",
       "      <td>2004/2005</td>\n",
       "      <td>2019-12-16T23:09:16.168756</td>\n",
       "      <td>2019-12-16T23:09:16.168756</td>\n",
       "    </tr>\n",
       "    <tr>\n",
       "      <th>18</th>\n",
       "      <td>49</td>\n",
       "      <td>3</td>\n",
       "      <td>United States of America</td>\n",
       "      <td>NWSL</td>\n",
       "      <td>female</td>\n",
       "      <td>2018</td>\n",
       "      <td>2020-02-27T15:22:21.167136</td>\n",
       "      <td>2020-01-26T02:37:05.981617</td>\n",
       "    </tr>\n",
       "    <tr>\n",
       "      <th>19</th>\n",
       "      <td>72</td>\n",
       "      <td>30</td>\n",
       "      <td>International</td>\n",
       "      <td>Women's World Cup</td>\n",
       "      <td>female</td>\n",
       "      <td>2019</td>\n",
       "      <td>2020-02-27T12:19:39.458017</td>\n",
       "      <td>2020-02-27T12:19:39.458017</td>\n",
       "    </tr>\n",
       "  </tbody>\n",
       "</table>\n",
       "</div>"
      ],
      "text/plain": [
       "    competition_id  season_id              country_name  \\\n",
       "0               37         42                   England   \n",
       "1               37          4                   England   \n",
       "2               43          3             International   \n",
       "3               11          4                     Spain   \n",
       "4               11          1                     Spain   \n",
       "5               11          2                     Spain   \n",
       "6               11         27                     Spain   \n",
       "7               11         26                     Spain   \n",
       "8               11         25                     Spain   \n",
       "9               11         24                     Spain   \n",
       "10              11         23                     Spain   \n",
       "11              11         22                     Spain   \n",
       "12              11         21                     Spain   \n",
       "13              11         41                     Spain   \n",
       "14              11         40                     Spain   \n",
       "15              11         39                     Spain   \n",
       "16              11         38                     Spain   \n",
       "17              11         37                     Spain   \n",
       "18              49          3  United States of America   \n",
       "19              72         30             International   \n",
       "\n",
       "           competition_name competition_gender season_name  \\\n",
       "0   FA Women's Super League             female   2019/2020   \n",
       "1   FA Women's Super League             female   2018/2019   \n",
       "2            FIFA World Cup               male        2018   \n",
       "3                   La Liga               male   2018/2019   \n",
       "4                   La Liga               male   2017/2018   \n",
       "5                   La Liga               male   2016/2017   \n",
       "6                   La Liga               male   2015/2016   \n",
       "7                   La Liga               male   2014/2015   \n",
       "8                   La Liga               male   2013/2014   \n",
       "9                   La Liga               male   2012/2013   \n",
       "10                  La Liga               male   2011/2012   \n",
       "11                  La Liga               male   2010/2011   \n",
       "12                  La Liga               male   2009/2010   \n",
       "13                  La Liga               male   2008/2009   \n",
       "14                  La Liga               male   2007/2008   \n",
       "15                  La Liga               male   2006/2007   \n",
       "16                  La Liga               male   2005/2006   \n",
       "17                  La Liga               male   2004/2005   \n",
       "18                     NWSL             female        2018   \n",
       "19        Women's World Cup             female        2019   \n",
       "\n",
       "                 match_updated             match_available  \n",
       "0   2020-03-11T14:09:41.932138  2020-03-11T14:09:41.932138  \n",
       "1      2020-02-27T15:59:58.148     2020-02-27T15:59:58.148  \n",
       "2   2020-03-23T20:46:14.281663  2019-12-16T23:09:16.168756  \n",
       "3   2020-02-27T12:19:39.458017  2020-02-27T12:19:39.458017  \n",
       "4   2020-02-27T12:19:39.458017  2020-02-27T12:19:39.458017  \n",
       "5   2019-12-16T23:09:16.168756  2019-12-16T23:09:16.168756  \n",
       "6   2019-12-16T23:09:16.168756  2019-12-16T23:09:16.168756  \n",
       "7   2019-12-16T23:09:16.168756  2019-12-16T23:09:16.168756  \n",
       "8   2019-12-16T23:09:16.168756  2019-12-16T23:09:16.168756  \n",
       "9   2019-12-16T23:09:16.168756  2019-12-16T23:09:16.168756  \n",
       "10  2019-12-16T23:09:16.168756  2019-12-16T23:09:16.168756  \n",
       "11  2019-12-16T23:09:16.168756  2019-12-16T23:09:16.168756  \n",
       "12  2019-12-16T23:09:16.168756  2019-12-16T23:09:16.168756  \n",
       "13  2019-12-16T23:09:16.168756  2019-12-16T23:09:16.168756  \n",
       "14  2019-12-16T23:09:16.168756  2019-12-16T23:09:16.168756  \n",
       "15  2019-12-16T23:09:16.168756  2019-12-16T23:09:16.168756  \n",
       "16  2020-02-27T12:19:39.458017  2020-02-27T12:19:39.458017  \n",
       "17  2019-12-16T23:09:16.168756  2019-12-16T23:09:16.168756  \n",
       "18  2020-02-27T15:22:21.167136  2020-01-26T02:37:05.981617  \n",
       "19  2020-02-27T12:19:39.458017  2020-02-27T12:19:39.458017  "
      ]
     },
     "execution_count": 2,
     "metadata": {},
     "output_type": "execute_result"
    }
   ],
   "source": [
    "#Get a list of available competitions\n",
    "comps = sb.Competitions()\n",
    "\n",
    "#Get underlying json data\n",
    "json_data = comps.data\n",
    "\n",
    "#Convert to a dataframe\n",
    "df = comps.get_dataframe()\n",
    "df"
   ]
  },
  {
   "cell_type": "code",
   "execution_count": 3,
   "metadata": {},
   "outputs": [],
   "source": [
    "#Get all FA WSL (England Women's league) matches\n",
    "fawsl_matches = sb.Matches(event_id='37', season_id='4').get_dataframe()\n",
    "fawsl_matches_2 = sb.Matches(event_id='37', season_id='42').get_dataframe()\n",
    "\n",
    "#Get all NWSL (US Women's league) matches\n",
    "nwsl_matches = sb.Matches(event_id='49', season_id='3').get_dataframe()\n",
    "\n",
    "#Combine into single dataframe\n",
    "inter = fawsl_matches.append(fawsl_matches_2)\n",
    "matches = inter.append(nwsl_matches)\n",
    "#matches.head()"
   ]
  },
  {
   "cell_type": "code",
   "execution_count": 4,
   "metadata": {},
   "outputs": [],
   "source": [
    "#Create a list of all Match IDs\n",
    "match_list = matches['match_id'].to_list()\n",
    "match_list = map(str, match_list)\n",
    "\n",
    "#Create a blank dataframe for all shot events\n",
    "shots_df = pd.DataFrame()\n",
    "\n",
    "#Loop through the events db and pull out all shot events for each match\n",
    "for i in match_list:\n",
    "    events = sb.Events(event_id=i)\n",
    "    df = events.get_dataframe(event_type='shot')\n",
    "    shots_df = shots_df.append(df)\n",
    "    \n",
    "#shots_df.head()"
   ]
  },
  {
   "cell_type": "code",
   "execution_count": 5,
   "metadata": {},
   "outputs": [
    {
     "name": "stdout",
     "output_type": "stream",
     "text": [
      "6116 shots is not a huge sample to work with! (actually not bad with this larger dataset)\n",
      "\n",
      "The dataset contains the following columns:\n",
      "['event_type', 'id', 'index', 'period', 'timestamp', 'minute', 'second', 'possession', 'possession_team', 'play_pattern', 'off_camera', 'team', 'player', 'position', 'duration', 'under_pressure', 'statsbomb_xg', 'key_pass_id', 'body_part', 'type', 'outcome', 'technique', 'first_time', 'follows_dribble', 'redirect', 'one_on_one', 'open_goal', 'deflected', 'start_location_x', 'start_location_y', 'end_location_x', 'end_location_y', 'end_location_z']\n",
      "\n",
      "Unique values in the 'type' column:\n",
      "['Open Play' 'Penalty' 'Free Kick' 'Corner']\n",
      "\n",
      "Unique values in the 'play_pattern' column:\n",
      "['Regular Play' 'From Corner' 'From Throw In' 'From Free Kick'\n",
      " 'From Counter' 'From Goal Kick' 'From Kick Off' 'Other' 'From Keeper']\n"
     ]
    }
   ],
   "source": [
    "# Print some details about the dataset\n",
    "print(len(shots_df), \"shots is not a huge sample to work with! (actually not bad with this larger dataset)\")\n",
    "print(\"\")\n",
    " \n",
    "print(\"The dataset contains the following columns:\")\n",
    "print(list(shots_df))\n",
    "print(\"\")\n",
    " \n",
    "print(\"Unique values in the 'type' column:\")\n",
    "print(shots_df['type'].unique())\n",
    "print(\"\")\n",
    " \n",
    "print(\"Unique values in the 'play_pattern' column:\")\n",
    "print(shots_df['play_pattern'].unique())"
   ]
  },
  {
   "cell_type": "code",
   "execution_count": 6,
   "metadata": {},
   "outputs": [
    {
     "data": {
      "text/plain": [
       "5870"
      ]
     },
     "execution_count": 6,
     "metadata": {},
     "output_type": "execute_result"
    }
   ],
   "source": [
    "len(shots_df[shots_df['type'] == 'Open Play'])"
   ]
  },
  {
   "cell_type": "code",
   "execution_count": 7,
   "metadata": {},
   "outputs": [
    {
     "name": "stdout",
     "output_type": "stream",
     "text": [
      "Average conversion rate:  10.48%\n"
     ]
    },
    {
     "data": {
      "image/png": "[encoded data removed]",
      "text/plain": [
       "<Figure size 432x288 with 1 Axes>"
      ]
     },
     "metadata": {
      "needs_background": "light"
     },
     "output_type": "display_data"
    }
   ],
   "source": [
    "#Filter down to only Open Play shots (96% of full dataset)\n",
    "op_shots = shots_df[shots_df['type'] == 'Open Play']\n",
    "\n",
    "#Create a goal column, where 1 = goal and 0 = no goal\n",
    "op_shots['goal'] = np.where(op_shots['outcome'] == 'Goal', 1, 0)\n",
    "op_shots['pressure'] = np.where(op_shots['under_pressure'] == True, 1, 0)\n",
    "\n",
    "#Calculate average shot ocnversion rate\n",
    "attempts = len(op_shots)\n",
    "goals = sum(op_shots['goal'])\n",
    "misses = attempts - goals\n",
    "conversion_rate = goals / attempts\n",
    "print('Average conversion rate: ', '{0:.2f}%'.format(conversion_rate*100))\n",
    "\n",
    "feature = 'goal'\n",
    "size = len(op_shots[feature].unique())\n",
    "#Plot the count of 'goal' and 'no goal' events to show imbalance\n",
    "plt.hist(op_shots[feature], bins=np.arange(size+1) - 0.5)\n",
    "plt.xticks(range(size))\n",
    "plt.show()"
   ]
  },
  {
   "cell_type": "code",
   "execution_count": 8,
   "metadata": {},
   "outputs": [
    {
     "name": "stdout",
     "output_type": "stream",
     "text": [
      "['Regular Play' 'From Corner' 'From Throw In' 'From Free Kick'\n",
      " 'From Counter' 'From Goal Kick' 'From Kick Off' 'From Keeper' 'Other']\n",
      "['Right Midfield' 'Left Center Midfield' 'Left Back' 'Center Forward'\n",
      " 'Center Defensive Midfield' 'Center Attacking Midfield' 'Right Wing'\n",
      " 'Right Center Midfield' 'Left Center Back' 'Left Midfield'\n",
      " 'Right Wing Back' 'Left Defensive Midfield' 'Right Defensive Midfield'\n",
      " 'Left Wing' 'Right Center Forward' 'Left Center Forward'\n",
      " 'Right Center Back' 'Right Back' 'Left Wing Back' 'Center Back'\n",
      " 'Center Midfield' 'Left Attacking Midfield' 'Right Attacking Midfield'\n",
      " 'Secondary Striker' 'Goalkeeper']\n",
      "[None True]\n",
      "['Right Foot' 'Head' 'Left Foot' 'Other']\n",
      "['Normal' 'Volley' 'Half Volley' 'Lob' 'Backheel' 'Overhead Kick'\n",
      " 'Diving Header']\n",
      "[None True]\n",
      "[None True]\n",
      "[None True]\n",
      "[None True]\n",
      "[None True]\n",
      "[None True]\n"
     ]
    }
   ],
   "source": [
    "print(op_shots['play_pattern'].unique())\n",
    "print(op_shots['position'].unique())\n",
    "print(op_shots['under_pressure'].unique())\n",
    "print(op_shots['body_part'].unique())\n",
    "print(op_shots['technique'].unique())\n",
    "print(op_shots['first_time'].unique())\n",
    "print(op_shots['follows_dribble'].unique())\n",
    "print(op_shots['redirect'].unique())\n",
    "print(op_shots['deflected'].unique())\n",
    "print(op_shots['one_on_one'].unique())\n",
    "print(op_shots['open_goal'].unique())"
   ]
  },
  {
   "cell_type": "code",
   "execution_count": 9,
   "metadata": {},
   "outputs": [
    {
     "data": {
      "image/png": "[encoded data removed]",
      "text/plain": [
       "<Figure size 432x288 with 1 Axes>"
      ]
     },
     "metadata": {
      "needs_background": "light"
     },
     "output_type": "display_data"
    }
   ],
   "source": [
    "feature = 'play_pattern'\n",
    "size = len(op_shots[feature].unique())\n",
    "#Plot the count of 'goal' and 'no goal' events to show imbalance\n",
    "plt.hist(op_shots[feature], bins=np.arange(size+1) - 0.5)\n",
    "plt.xticks(range(size))\n",
    "plt.xticks(rotation='vertical')\n",
    "plt.show()"
   ]
  },
  {
   "cell_type": "code",
   "execution_count": 10,
   "metadata": {},
   "outputs": [],
   "source": [
    "#Filter down to only Open Play shots (96% of full dataset)\n",
    "op_shots = shots_df[shots_df['type'] == 'Open Play']\n",
    "\n",
    "#Create a goal column, where 1 = goal and 0 = no goal\n",
    "op_shots['goal'] = np.where(op_shots['outcome'] == 'Goal', 1, 0)\n",
    "#op_shots['pressure'] = np.where(op_shots['under_pressure'] == True, 1, 0)\n",
    "#op_shots['firsttime'] = np.where(op_shots['first_time'] == True, 1, 0)\n",
    "#op_shots['dribble'] = np.where(op_shots['follows_dribble'] == True, 1, 0)\n",
    "#op_shots['redirect'] = np.where(op_shots['redirect'] == True, 1, 0)\n",
    "#op_shots['deflected'] = np.where(op_shots['deflected'] == True, 1, 0)\n",
    "#op_shots['one_on_one'] = np.where(op_shots['one_on_one'] == True, 1, 0)\n",
    "#op_shots['open_goal'] = np.where(op_shots['open_goal'] == True, 1, 0)\n",
    "\n",
    "#Feature engineering\n",
    "#Reset index\n",
    "op_shots = op_shots.reset_index().drop('level_0', axis=1)\n",
    "\n",
    "#Create a column to show whether or not the shot was assisted\n",
    "op_shots['assisted'] = np.where(op_shots['key_pass_id'].isna(), 0, 1)\n",
    "\n",
    "#Create columns for distance and angle\n",
    "#In this dataset, the pitch is 120 units long and 80 units wide\n",
    "#We will measure distance and angle from the centre of the goal at (120, 40)\n",
    "op_shots['x_dist'] = 120 - op_shots['start_location_x']\n",
    "op_shots['y_dist'] = abs(40 - op_shots['start_location_y'])\n",
    "op_shots['dist'] = np.sqrt((op_shots['x_dist']**2 + op_shots['y_dist']**2))\n",
    "op_shots['angle'] = np.degrees(np.arctan((op_shots['y_dist'] / op_shots['x_dist'])))\n",
    "\n",
    "#We would only want to differentiate between left and right foot if we\n",
    "#already knew the player's weak foot\n",
    "op_shots['body_part'] = np.where((op_shots['body_part'] == 'Right Foot')\n",
    "                                 | (op_shots['body_part'] == 'Left Foot'), 'foot',\n",
    "                                np.where(op_shots['body_part'] == 'Head', 'head', 'other'))\n",
    "\n",
    "#Let's group Technique into Normal, Volley, Other\n",
    "op_shots['technique'] = np.where((op_shots['technique'] == 'Volley')\n",
    "                                | (op_shots['technique'] == 'Half Volley'), 'volley',\n",
    "                                np.where((op_shots['technique'] == 'Lob')\n",
    "                                         |(op_shots['technique'] == 'Backheel')\n",
    "                                         |(op_shots['technique'] == 'Overhead Kick')\n",
    "                                         |(op_shots['technique'] == 'Diving Header'), 'other', 'normal'))\n",
    "\n",
    "#Simplify positions into 'family groups' based on Central or Wide positions and Depth\n",
    "op_shots['position'] = np.where((op_shots['position'] == 'Right Midfield')\n",
    "                                | (op_shots['position'] == 'Right Wing')\n",
    "                                | (op_shots['position'] == 'Left Midfield')\n",
    "                                | (op_shots['position'] == 'Left Wing'), 'W',\n",
    "                                np.where((op_shots['position'] == 'Left Center Midfield')\n",
    "                                         |(op_shots['position'] == 'Center Midfield')\n",
    "                                         |(op_shots['position'] == 'Right Center Midfield'), 'CM',\n",
    "                                         np.where((op_shots['position'] == 'Left Attacking Midfield')\n",
    "                                             |(op_shots['position'] == 'Center Attacking Midfield')\n",
    "                                             |(op_shots['position'] == 'Right Attacking Midfield'), 'AM',\n",
    "                                             np.where((op_shots['position'] == 'Left Defensive Midfield')\n",
    "                                                 |(op_shots['position'] == 'Center Defensive Midfield')\n",
    "                                                 |(op_shots['position'] == 'Right Defensive Midfield'), 'DM',\n",
    "                                                 np.where((op_shots['position'] == 'Left Center Forward')\n",
    "                                                     |(op_shots['position'] == 'Center Forward')\n",
    "                                                     |(op_shots['position'] == 'Secondary Striker')\n",
    "                                                     |(op_shots['position'] == 'Right Center Forward'), 'CF',\n",
    "                                                     np.where((op_shots['position'] == 'Left Back')\n",
    "                                                         |(op_shots['position'] == 'Left Wing Back')\n",
    "                                                         |(op_shots['position'] == 'Right Back')\n",
    "                                                         |(op_shots['position'] == 'Right Wing Back'), 'FB',\n",
    "                                                         np.where((op_shots['position'] == 'Left Center Back')\n",
    "                                                             |(op_shots['position'] == 'Center Back')\n",
    "                                                             |(op_shots['position'] == 'Right Center Back'), 'CB',\n",
    "                                                             'GK')))))))"
   ]
  },
  {
   "cell_type": "code",
   "execution_count": 11,
   "metadata": {},
   "outputs": [],
   "source": [
    "#Select model features and labels\n",
    "feature_cols = ['play_pattern',\n",
    "                'position',\n",
    "                'under_pressure',\n",
    "                'body_part',\n",
    "                'technique',\n",
    "                'first_time',\n",
    "                'follows_dribble',\n",
    "                'redirect',\n",
    "                'deflected',\n",
    "                'one_on_one',\n",
    "                'open_goal',\n",
    "                'assisted',\n",
    "                'dist',\n",
    "                'angle']\n",
    "\n",
    "#Point out feature cols which are already numeric and don't need to be encoded\n",
    "numeric_cols = ['assisted', 'dist', 'angle']\n",
    "\n",
    "features = op_shots[feature_cols]\n",
    "labels = op_shots['goal']\n",
    "\n",
    "#Fill missing values\n",
    "features = features.fillna(0)\n",
    "labels = labels.fillna(0)\n",
    "\n",
    "#Encode categorical features\n",
    "cat_cols = [s for s in feature_cols if s not in numeric_cols]\n",
    "cat_features = features[cat_cols]\n",
    "features = features.drop(cat_cols, axis=1)\n",
    "\n",
    "#Use label encoding to convert categorical features to numeric\n",
    "le = preprocessing.LabelEncoder()\n",
    "cat_features = cat_features.apply(le.fit_transform)\n",
    "\n",
    "#Merge numerically encoded features with pre-existing numeric features\n",
    "features = features.merge(cat_features, left_index=True, right_index=True)\n"
   ]
  },
  {
   "cell_type": "code",
   "execution_count": 12,
   "metadata": {},
   "outputs": [
    {
     "name": "stdout",
     "output_type": "stream",
     "text": [
      "(4696, 14)\n",
      "(1174, 14)\n"
     ]
    }
   ],
   "source": [
    "#Split data into a training set and a test set\n",
    "#Going with and 80-20 split here\n",
    "#Setting shuffle=True re-orders the dataset randomly\n",
    "#Using the same random_state for each model ensures that we can compare \n",
    "# different models accurately\n",
    "#X is our model features, and y is our labels (naming convention)\n",
    "X_train, X_test, y_train, y_test = train_test_split(features, labels, test_size=0.20, \n",
    "                                                   shuffle=True, random_state=42)\n",
    "#Scale X to be between 0 and 1\n",
    "#Note that y is already either 0 or 1, so can leave alone\n",
    "scaler = preprocessing.MinMaxScaler(feature_range=(0, 1))\n",
    "X_train = scaler.fit_transform(X_train)\n",
    "X_test = scaler.fit_transform(X_test)\n",
    "\n",
    "print(X_train.shape)\n",
    "print(X_test.shape)"
   ]
  },
  {
   "cell_type": "code",
   "execution_count": 13,
   "metadata": {},
   "outputs": [
    {
     "name": "stdout",
     "output_type": "stream",
     "text": [
      "Predicted goals (test set):  111\n",
      "Sum of predicted goal probabilities (aka xG):  112.00\n",
      "Actual goals (test set):  137\n",
      "\n",
      "              precision    recall  f1-score   support\n",
      "\n",
      "           0       0.90      0.92      0.91      1037\n",
      "           1       0.30      0.24      0.27       137\n",
      "\n",
      "    accuracy                           0.84      1174\n",
      "   macro avg       0.60      0.58      0.59      1174\n",
      "weighted avg       0.83      0.84      0.84      1174\n",
      "\n"
     ]
    },
    {
     "data": {
      "image/png": "[encoded data removed]",
      "text/plain": [
       "<Figure size 432x288 with 2 Axes>"
      ]
     },
     "metadata": {
      "needs_background": "light"
     },
     "output_type": "display_data"
    },
    {
     "data": {
      "image/png": "[encoded data removed]",
      "text/plain": [
       "<Figure size 432x288 with 1 Axes>"
      ]
     },
     "metadata": {
      "needs_background": "light"
     },
     "output_type": "display_data"
    },
    {
     "data": {
      "image/png": "[encoded data removed]",
      "text/plain": [
       "<Figure size 432x288 with 1 Axes>"
      ]
     },
     "metadata": {
      "needs_background": "light"
     },
     "output_type": "display_data"
    }
   ],
   "source": [
    "#TRAIN THE MODEL\n",
    "#Define the algorithm we want to use for our model\n",
    "clf = DecisionTreeClassifier(random_state=42)\n",
    "\n",
    "#Train the model\n",
    "clf.fit(X_train, y_train)\n",
    "\n",
    "#Create predictions\n",
    "y_pred = clf.predict(X_test)\n",
    "y_pred_prob = clf.predict_proba(X_test)\n",
    "\n",
    "#Print results\n",
    "print('Predicted goals (test set): ', sum(y_pred))\n",
    "print('Sum of predicted goal probabilities (aka xG): ', '{0:.2f}'.format(sum(y_pred_prob[:,1])))\n",
    "print('Actual goals (test set): ', sum(y_test))\n",
    "print('')\n",
    "print(metrics.classification_report(y_test, y_pred))\n",
    "\n",
    "#Plot results\n",
    "skplt.metrics.plot_confusion_matrix(y_test, y_pred)\n",
    "skplt.metrics.plot_precision_recall(y_test, y_pred_prob)\n",
    "\n",
    "#Get feature importance\n",
    "importances = pd.DataFrame({'feature':features.columns, 'importance':np.round(clf.feature_importances_,3)})\n",
    "importances = importances.sort_values('importance', ascending=True)\n",
    "\n",
    "f,ax = plt.subplots()\n",
    "f.suptitle('Feature Importance')\n",
    "plt.barh(importances['feature'], importances['importance'])\n",
    "plt.xticks(rotation='vertical')\n",
    "plt.show()"
   ]
  },
  {
   "cell_type": "code",
   "execution_count": 14,
   "metadata": {},
   "outputs": [
    {
     "name": "stdout",
     "output_type": "stream",
     "text": [
      "[0 1]\n",
      "[0.5585157  4.77235772]\n"
     ]
    }
   ],
   "source": [
    "#GOING BACK TO RIGHT BEFORE THE TRAIN MODEL STEP ABOVE\n",
    "#Check class weights that a 'balanced' model would use\n",
    "class_weights = compute_class_weight('balanced', np.unique(labels), labels)\n",
    "print(np.unique(labels))\n",
    "print(class_weights)"
   ]
  },
  {
   "cell_type": "code",
   "execution_count": 15,
   "metadata": {},
   "outputs": [
    {
     "name": "stdout",
     "output_type": "stream",
     "text": [
      "Predicted goals (test set):  103\n",
      "Sum of predicted goal probabilities (aka xG):  102.90\n",
      "Actual goals (test set):  137\n",
      "\n",
      "              precision    recall  f1-score   support\n",
      "\n",
      "           0       0.90      0.93      0.91      1037\n",
      "           1       0.27      0.20      0.23       137\n",
      "\n",
      "    accuracy                           0.84      1174\n",
      "   macro avg       0.59      0.57      0.57      1174\n",
      "weighted avg       0.83      0.84      0.83      1174\n",
      "\n"
     ]
    },
    {
     "data": {
      "image/png": "[encoded data removed]",
      "text/plain": [
       "<Figure size 432x288 with 2 Axes>"
      ]
     },
     "metadata": {
      "needs_background": "light"
     },
     "output_type": "display_data"
    },
    {
     "data": {
      "image/png": "[encoded data removed]",
      "text/plain": [
       "<Figure size 432x288 with 1 Axes>"
      ]
     },
     "metadata": {
      "needs_background": "light"
     },
     "output_type": "display_data"
    },
    {
     "data": {
      "image/png": "[encoded data removed]",
      "text/plain": [
       "<Figure size 432x288 with 1 Axes>"
      ]
     },
     "metadata": {
      "needs_background": "light"
     },
     "output_type": "display_data"
    }
   ],
   "source": [
    "#RE-TRAIN THE MODEL (with MODIFIED WEIGHTINGS)\n",
    "#Define the algorithm we want to use for our model\n",
    "clf = DecisionTreeClassifier(class_weight='balanced', random_state=42)\n",
    "\n",
    "#Train the model\n",
    "clf.fit(X_train, y_train)\n",
    "\n",
    "#Create predictions\n",
    "y_pred = clf.predict(X_test)\n",
    "y_pred_prob = clf.predict_proba(X_test)\n",
    "\n",
    "#Print results\n",
    "print('Predicted goals (test set): ', sum(y_pred))\n",
    "print('Sum of predicted goal probabilities (aka xG): ', '{0:.2f}'.format(sum(y_pred_prob[:,1])))\n",
    "print('Actual goals (test set): ', sum(y_test))\n",
    "print('')\n",
    "print(metrics.classification_report(y_test, y_pred))\n",
    "\n",
    "#Plot results\n",
    "skplt.metrics.plot_confusion_matrix(y_test, y_pred)\n",
    "skplt.metrics.plot_precision_recall(y_test, y_pred_prob)\n",
    "\n",
    "#Get feature importance\n",
    "importances = pd.DataFrame({'feature':features.columns, 'importance':np.round(clf.feature_importances_,3)})\n",
    "importances = importances.sort_values('importance', ascending=True)\n",
    "\n",
    "f,ax = plt.subplots()\n",
    "f.suptitle('Feature Importance')\n",
    "plt.barh(importances['feature'], importances['importance'])\n",
    "plt.xticks(rotation='vertical')\n",
    "plt.show()"
   ]
  },
  {
   "cell_type": "code",
   "execution_count": 16,
   "metadata": {},
   "outputs": [],
   "source": [
    "#SYNTHETIC SAMPLING\n",
    "#Get column indices instead of names for the categorical features (required input\n",
    "# input for SMOTE-NC)\n",
    "# Remember in Python the first column in a dataset is at index 0, etc.\n",
    "# E.g. 'play_pattern' is at index 3 in this dataset\n",
    "cat_cols_ind =[]\n",
    "for key in cat_cols:\n",
    "    ind = features.columns.get_loc(key)\n",
    "    cat_cols_ind.append(ind)\n",
    "    \n",
    "#Fit SMOTE-NC\n",
    "smote_nc = imblearn.over_sampling.SMOTENC(categorical_features=cat_cols_ind, random_state=42)\n",
    "features_resampled, labels_resampled = smote_nc.fit_resample(features, labels)"
   ]
  },
  {
   "cell_type": "code",
   "execution_count": 17,
   "metadata": {},
   "outputs": [],
   "source": [
    "#Split the resampled data into a training set and a test set\n",
    "X_train_re, X_test_re, y_train_re, y_test_re = train_test_split(features_resampled, labels_resampled, test_size=0.20, \n",
    "                                                   shuffle=True, random_state=42)"
   ]
  },
  {
   "cell_type": "code",
   "execution_count": 18,
   "metadata": {},
   "outputs": [
    {
     "name": "stdout",
     "output_type": "stream",
     "text": [
      "(8408, 14)\n",
      "(2102, 14)\n"
     ]
    }
   ],
   "source": [
    "#Scale X to be between 0 and 1 (can speed up processing and help with accuracy)\n",
    "scaler = preprocessing.MinMaxScaler(feature_range=(0,1))\n",
    "X_train_re = scaler.fit_transform(X_train_re)\n",
    "X_test_re = scaler.fit_transform(X_test_re)\n",
    "\n",
    "#Note that our dataset got bigger thanks to the SMOTE-NC algo!\n",
    "print(X_train_re.shape)\n",
    "print(X_test_re.shape)"
   ]
  },
  {
   "cell_type": "code",
   "execution_count": 19,
   "metadata": {},
   "outputs": [
    {
     "name": "stdout",
     "output_type": "stream",
     "text": [
      "Predicted goals (test set):  1096\n",
      "Sum of predicted goal probabilities (aka xG):  1096.13\n",
      "Actual goals (test set):  1042\n",
      "\n",
      "              precision    recall  f1-score   support\n",
      "\n",
      "           0       0.82      0.77      0.79      1060\n",
      "           1       0.78      0.82      0.80      1042\n",
      "\n",
      "    accuracy                           0.80      2102\n",
      "   macro avg       0.80      0.80      0.80      2102\n",
      "weighted avg       0.80      0.80      0.80      2102\n",
      "\n"
     ]
    },
    {
     "data": {
      "image/png": "[encoded data removed]",
      "text/plain": [
       "<Figure size 432x288 with 2 Axes>"
      ]
     },
     "metadata": {
      "needs_background": "light"
     },
     "output_type": "display_data"
    },
    {
     "data": {
      "image/png": "[encoded data removed]",
      "text/plain": [
       "<Figure size 432x288 with 1 Axes>"
      ]
     },
     "metadata": {
      "needs_background": "light"
     },
     "output_type": "display_data"
    },
    {
     "data": {
      "image/png": "[encoded data removed]",
      "text/plain": [
       "<Figure size 432x288 with 1 Axes>"
      ]
     },
     "metadata": {
      "needs_background": "light"
     },
     "output_type": "display_data"
    }
   ],
   "source": [
    "#Define the algorithm we want to use for our model\n",
    "clf = DecisionTreeClassifier(random_state=42)\n",
    "\n",
    "#Train the model\n",
    "clf.fit(X_train_re, y_train_re)\n",
    "\n",
    "#Create predictions\n",
    "y_pred_re = clf.predict(X_test_re)\n",
    "y_pred_prob_re = clf.predict_proba(X_test_re)\n",
    "\n",
    "#Print results\n",
    "print('Predicted goals (test set): ', sum(y_pred_re))\n",
    "print('Sum of predicted goal probabilities (aka xG): ', '{0:.2f}'.format(sum(y_pred_prob_re[:,1])))\n",
    "print('Actual goals (test set): ', sum(y_test_re))\n",
    "print('')\n",
    "print(metrics.classification_report(y_test_re, y_pred_re))\n",
    "\n",
    "#Plot results\n",
    "skplt.metrics.plot_confusion_matrix(y_test_re, y_pred_re)\n",
    "skplt.metrics.plot_precision_recall(y_test_re, y_pred_prob_re)\n",
    "\n",
    "#Get feature importance\n",
    "importances = pd.DataFrame({'feature':features.columns, 'importance':np.round(clf.feature_importances_,3)})\n",
    "importances = importances.sort_values('importance', ascending=True)\n",
    "\n",
    "f,ax = plt.subplots()\n",
    "f.suptitle('Feature Importance')\n",
    "plt.barh(importances['feature'], importances['importance'])\n",
    "plt.xticks(rotation='vertical')\n",
    "plt.show()"
   ]
  },
  {
   "cell_type": "code",
   "execution_count": 20,
   "metadata": {},
   "outputs": [],
   "source": [
    "#Define a function to check cross-validation results\n",
    "def check_cross_validation(features, labels, num_folds, random_state=42):\n",
    "    #Scale features between 0 and 1\n",
    "    scaler = preprocessing.MinMaxScaler(feature_range=(0,1))\n",
    "    X = scaler.fit_transform(features)\n",
    "    y = labels\n",
    "    \n",
    "    #Define the cross-validation params\n",
    "    #Common values of k are 5 & 10\n",
    "    cv = StratifiedKFold(n_splits=num_folds, shuffle=True, random_state=random_state)\n",
    "    \n",
    "    #Respecify decision tree here\n",
    "    clf = DecisionTreeClassifier(random_state=random_state)\n",
    "    \n",
    "    #Calculate precision and recall inside a loop using cross-validation\n",
    "    #Frist, create blank arrays to store results\n",
    "    precision_0 = np.array([])\n",
    "    recall_0 = np.array([])\n",
    "    precision_1 = np.array([])\n",
    "    recall_1 = np.array([])\n",
    "    \n",
    "    #Create training and test data and fit model for each fold\n",
    "    for train_index, test_index in cv.split(X, y):\n",
    "        X_train, X_test = X[train_index], X[test_index]\n",
    "        y_train, y_test = y[train_index], y[test_index]\n",
    "        clf.fit(X_train, y_train)\n",
    "        \n",
    "        #Create predictions\n",
    "        y_pred = clf.predict(X_test)\n",
    "        \n",
    "        #Calculate precision and recall\n",
    "        #average=None breaks our each component\n",
    "        precision_scores = metrics.precision_score(y_test, y_pred, average=None)\n",
    "        recall_scores = metrics.recall_score(y_test, y_pred, average=None)\n",
    "        \n",
    "        #Add the results to the empty arrays\n",
    "        precision_0 = np.append(precision_0, np.array(precision_scores[0]))\n",
    "        precision_1 = np.append(precision_1, np.array(precision_scores[1]))\n",
    "        recall_0 = np.append(recall_0, np.array(recall_scores[0]))\n",
    "        recall_1 = np.append(recall_1, np.array(recall_scores[1]))\n",
    "        \n",
    "    #Print average ofresults from cross-validation\n",
    "    print(\"Precision - no goal:\", \"{0:.4f}\".format(precision_0.mean()))\n",
    "    print(\"Recall - no goal:\", \"{0:.4f}\".format(recall_0.mean()))\n",
    "    print(\"Precision - goal:\", \"{0:.4f}\".format(precision_1.mean()))\n",
    "    print(\"Recall - goal:\", \"{0:.4f}\".format(recall_1.mean()))\n",
    "    print('')\n",
    "    "
   ]
  },
  {
   "cell_type": "code",
   "execution_count": 21,
   "metadata": {
    "scrolled": true
   },
   "outputs": [
    {
     "name": "stdout",
     "output_type": "stream",
     "text": [
      "Default classifier:\n",
      "Precision - no goal: 0.9100\n",
      "Recall - no goal: 0.8988\n",
      "Precision - goal: 0.2171\n",
      "Recall - goal: 0.2406\n",
      "\n",
      "SMOTE-NC classifier:\n",
      "Precision - no goal: 0.8101\n",
      "Recall - no goal: 0.7911\n",
      "Precision - goal: 0.7959\n",
      "Recall - goal: 0.8145\n",
      "\n"
     ]
    }
   ],
   "source": [
    "print('Default classifier:')\n",
    "check_cross_validation(features=features, labels=labels, num_folds=10)\n",
    "\n",
    "print('SMOTE-NC classifier:')\n",
    "check_cross_validation(features=features_resampled, labels=labels_resampled, num_folds=10)"
   ]
  }
 ],
 "metadata": {
  "kernelspec": {
   "display_name": "Python 3",
   "language": "python",
   "name": "python3"
  },
  "language_info": {
   "codemirror_mode": {
    "name": "ipython",
    "version": 3
   },
   "file_extension": ".py",
   "mimetype": "text/x-python",
   "name": "python",
   "nbconvert_exporter": "python",
   "pygments_lexer": "ipython3",
   "version": "3.7.4"
  }
 },
 "nbformat": 4,
 "nbformat_minor": 4
}
